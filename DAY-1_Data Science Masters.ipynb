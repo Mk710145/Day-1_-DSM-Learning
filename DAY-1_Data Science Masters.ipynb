{
 "cells": [
  {
   "cell_type": "raw",
   "id": "80b8f93c-9967-47fd-bac9-9a92078f9c08",
   "metadata": {},
   "source": [
    "Date:29 January,2022\n",
    "Day-1"
   ]
  },
  {
   "cell_type": "markdown",
   "id": "823a0f98-d584-49eb-84fb-906e5aaf10e0",
   "metadata": {},
   "source": [
    "### *Remember:*\n",
    "1) *To execute your code you can press **(shift+enter)** together .*\n",
    "2) *To add new cells press **(esc+a)** .*\n",
    "3) *To get description of a function press **(shift+tab)** .*\n",
    "4) *To write variable name without typing, simply type first few alphabets of the variable name and press **(tab)** .List of all declared variable starting with those alphabets will appear. Select the one you wish to work with .*"
   ]
  },
  {
   "cell_type": "markdown",
   "id": "5f8ec0fe-4e56-4890-93f8-f44ad506e6cf",
   "metadata": {},
   "source": [
    "## MARKDOWN\n",
    "\n",
    "This is an *example* to show what mardown is. To use mardown select Markdown from the cell type.\n",
    "\n",
    "Following are few ways of coustimizing our mardown:\n",
    "\n",
    "* '#'are used to bold our text in Mardown. More the no. of '#', less is the boldness and size of the text .\n",
    "* '*' is used to add built points .\n",
    "* 1 astrik gives text in italics .\n",
    "* 2 astriks gives text in bold ."
   ]
  },
  {
   "cell_type": "markdown",
   "id": "ed88416f-137d-450a-8e77-9ccedfc9eaf9",
   "metadata": {},
   "source": [
    "## 1) COMMENTS \n",
    "\n",
    "* To add single line comment use #\n",
    "* To add multiple line comment use ''' before and after the para"
   ]
  },
  {
   "cell_type": "code",
   "execution_count": 48,
   "id": "3c6562a5-5127-4e16-9e5c-64637aab6f41",
   "metadata": {},
   "outputs": [],
   "source": [
    "a = 10   "
   ]
  },
  {
   "cell_type": "markdown",
   "id": "ab386199-4c03-4b46-96a6-842a42325fdc",
   "metadata": {},
   "source": [
    "'''\n",
    "This is an example of multi line comment\n",
    "We can add as many lines as we wish too\n",
    "Here only print(a) will be executed.\n",
    "Everything else is for user's understanding\n",
    "'''\n",
    "print(a)   ## Printing using print function (example of single line comment)"
   ]
  },
  {
   "cell_type": "code",
   "execution_count": 16,
   "id": "4cd49945-7eda-4d6f-b4ad-467635513c2a",
   "metadata": {},
   "outputs": [
    {
     "data": {
      "text/plain": [
       "10"
      ]
     },
     "execution_count": 16,
     "metadata": {},
     "output_type": "execute_result"
    }
   ],
   "source": [
    "a ## Another way of displaying value of 'a' without using print function"
   ]
  },
  {
   "cell_type": "markdown",
   "id": "2f65b048-2d4e-4f23-88fe-3bb068974f65",
   "metadata": {},
   "source": [
    "## 2) NUMBERS"
   ]
  },
  {
   "cell_type": "code",
   "execution_count": 21,
   "id": "e5c9594b-5257-4d51-98ad-6eaa70ed95aa",
   "metadata": {},
   "outputs": [
    {
     "data": {
      "text/plain": [
       "4"
      ]
     },
     "execution_count": 21,
     "metadata": {},
     "output_type": "execute_result"
    }
   ],
   "source": [
    "1+3 #Notice there is cell no. on left hand side of the output"
   ]
  },
  {
   "cell_type": "code",
   "execution_count": 46,
   "id": "3019d0c5-e0bc-4d29-958c-4e3ca369a636",
   "metadata": {},
   "outputs": [
    {
     "name": "stdout",
     "output_type": "stream",
     "text": [
      "4\n"
     ]
    }
   ],
   "source": [
    "print (1+3) #Notice there is NO cell no. on left hand side of the output.\n",
    "           #It is acting as an output consol."
   ]
  },
  {
   "cell_type": "code",
   "execution_count": 45,
   "id": "9f2b49e5-577e-4fa2-b638-77b9361268d9",
   "metadata": {},
   "outputs": [
    {
     "name": "stdout",
     "output_type": "stream",
     "text": [
      "5\n"
     ]
    }
   ],
   "source": [
    "a=5 #Notice there is NO cell no. on left hand side of the output.\n",
    "print (a)"
   ]
  },
  {
   "cell_type": "markdown",
   "id": "45477f63-fa76-4b95-832a-dc0373792de0",
   "metadata": {},
   "source": [
    "#### PRINT( IN-BUILT FUNCTION)"
   ]
  },
  {
   "cell_type": "code",
   "execution_count": 44,
   "id": "207f44fd-efcd-48bc-b991-44fcd650fcfe",
   "metadata": {},
   "outputs": [
    {
     "name": "stdout",
     "output_type": "stream",
     "text": [
      "hello World\n"
     ]
    }
   ],
   "source": [
    "#In-built print function\n",
    "\n",
    "print (\"hello World\") "
   ]
  },
  {
   "cell_type": "code",
   "execution_count": 42,
   "id": "53f0b496-4e1e-4e1d-855c-ba6cc77eaff7",
   "metadata": {},
   "outputs": [
    {
     "name": "stdout",
     "output_type": "stream",
     "text": [
      "hello World I am manpreet\n"
     ]
    }
   ],
   "source": [
    "print (\"hello World I am manpreet\") #In-built print function and new line"
   ]
  },
  {
   "cell_type": "code",
   "execution_count": 70,
   "id": "d7594f45-df14-4167-9fb7-55ab86dd0856",
   "metadata": {},
   "outputs": [
    {
     "name": "stdout",
     "output_type": "stream",
     "text": [
      "hello World \n",
      "I am manpreet\n"
     ]
    }
   ],
   "source": [
    "# \\n\n",
    "\n",
    "print (\"hello World \\nI am manpreet\") #\\n is used for moving to a new line while using print()"
   ]
  },
  {
   "cell_type": "code",
   "execution_count": 113,
   "id": "fb291164-e4bf-48db-91d3-6c816ced6830",
   "metadata": {},
   "outputs": [
    {
     "name": "stdout",
     "output_type": "stream",
     "text": [
      "yyayy\n"
     ]
    }
   ],
   "source": [
    "print(\"yyayy\") #This is a string \"yyayy\" being print as it is.\n",
    "\n",
    "print(R) #This is a code line telling to print the value of R and not a string R.\n",
    "         #Here it will show error as no Variable R exist\n",
    "    \n",
    "R = 12\n",
    "print(R) #This will print value\n",
    "\n",
    "#Remember to make sure of what you are printing. A value stored in a variable or a string.\n"
   ]
  },
  {
   "cell_type": "markdown",
   "id": "2b82684c-d63b-4cf8-a575-9ee1eb55abbb",
   "metadata": {},
   "source": [
    "#### VARIABLE ASSIGNING"
   ]
  },
  {
   "cell_type": "code",
   "execution_count": 37,
   "id": "3ff04c5c-6f4f-4716-b0d6-459e9ef8ec2e",
   "metadata": {},
   "outputs": [],
   "source": [
    "name = \"Manpreet Kaur\"\n",
    "Age = \"22\""
   ]
  },
  {
   "cell_type": "code",
   "execution_count": 38,
   "id": "21f0edf2-51d3-418f-86e2-bbcd3b1c41db",
   "metadata": {},
   "outputs": [
    {
     "data": {
      "text/plain": [
       "'Manpreet Kaur'"
      ]
     },
     "execution_count": 38,
     "metadata": {},
     "output_type": "execute_result"
    }
   ],
   "source": [
    "name #value inside the variable is given as output"
   ]
  },
  {
   "cell_type": "code",
   "execution_count": 39,
   "id": "4846cf6a-f429-41fe-9b68-6bb29d52e0e9",
   "metadata": {},
   "outputs": [
    {
     "data": {
      "text/plain": [
       "'22'"
      ]
     },
     "execution_count": 39,
     "metadata": {},
     "output_type": "execute_result"
    }
   ],
   "source": [
    "Age #value inside the variable is given as output"
   ]
  },
  {
   "cell_type": "code",
   "execution_count": 40,
   "id": "1a532dc3-458d-4f57-94d3-ea63d42d45ec",
   "metadata": {},
   "outputs": [],
   "source": [
    "name = \"Sanchit Kothari\" #overwriting the value of this variable\n",
    "                       #Earlier it was Manpreet Kaur"
   ]
  },
  {
   "cell_type": "code",
   "execution_count": 49,
   "id": "af0cbd78-cd30-4e53-9a5c-7cfd301c471e",
   "metadata": {},
   "outputs": [
    {
     "data": {
      "text/plain": [
       "'Sanchit Kothari'"
      ]
     },
     "execution_count": 49,
     "metadata": {},
     "output_type": "execute_result"
    }
   ],
   "source": [
    "name #Checking if it overwriting has taken place or not?\n",
    "     #Memory is replaced"
   ]
  },
  {
   "cell_type": "code",
   "execution_count": 50,
   "id": "dbc231fc-c5ce-41cc-a3ff-51ece554f608",
   "metadata": {},
   "outputs": [],
   "source": [
    "Age = 21 #Replacing memory"
   ]
  },
  {
   "cell_type": "code",
   "execution_count": 51,
   "id": "41fffd42-a31a-48b3-bc36-0815d07e5174",
   "metadata": {},
   "outputs": [
    {
     "data": {
      "text/plain": [
       "21"
      ]
     },
     "execution_count": 51,
     "metadata": {},
     "output_type": "execute_result"
    }
   ],
   "source": [
    "Age ##Checking if it overwriting has taken place or not?\n",
    "     #Memory is replaced"
   ]
  },
  {
   "cell_type": "markdown",
   "id": "f64e9ea5-2b33-4da5-90d5-2c130b86768f",
   "metadata": {},
   "source": [
    "#### TYPE (IN-BUILT FUNCTION)"
   ]
  },
  {
   "cell_type": "code",
   "execution_count": 67,
   "id": "d43cbfde-97c7-457d-9ad3-2d33b8ba5c58",
   "metadata": {},
   "outputs": [
    {
     "data": {
      "text/plain": [
       "str"
      ]
     },
     "execution_count": 67,
     "metadata": {},
     "output_type": "execute_result"
    }
   ],
   "source": [
    "#In-built type function\n",
    "\n",
    "type (\"\") #this tells us that anything inside \" \" is considered as an string"
   ]
  },
  {
   "cell_type": "raw",
   "id": "9bbb0ad8-84e7-4424-9cb1-035b3b9c9de6",
   "metadata": {},
   "source": [
    "\"\" and '' has same usage in Pyhton"
   ]
  },
  {
   "cell_type": "code",
   "execution_count": 57,
   "id": "be1dc2d7-76f4-44c9-a5c3-f2da3f34c745",
   "metadata": {},
   "outputs": [
    {
     "data": {
      "text/plain": [
       "str"
      ]
     },
     "execution_count": 57,
     "metadata": {},
     "output_type": "execute_result"
    }
   ],
   "source": [
    "type (name)"
   ]
  },
  {
   "cell_type": "code",
   "execution_count": 56,
   "id": "56bbd3f7-11ed-4cef-a4d1-3c24907b2a68",
   "metadata": {},
   "outputs": [
    {
     "data": {
      "text/plain": [
       "int"
      ]
     },
     "execution_count": 56,
     "metadata": {},
     "output_type": "execute_result"
    }
   ],
   "source": [
    "type (Age)"
   ]
  },
  {
   "cell_type": "code",
   "execution_count": 60,
   "id": "113e1772-1cdc-421f-b1e0-e7495f64b1e7",
   "metadata": {},
   "outputs": [
    {
     "data": {
      "text/plain": [
       "str"
      ]
     },
     "execution_count": 60,
     "metadata": {},
     "output_type": "execute_result"
    }
   ],
   "source": [
    "type (\"hello\")"
   ]
  },
  {
   "cell_type": "code",
   "execution_count": 68,
   "id": "a694330c-c2a4-44c6-970f-166447cd8cd9",
   "metadata": {},
   "outputs": [
    {
     "data": {
      "text/plain": [
       "float"
      ]
     },
     "execution_count": 68,
     "metadata": {},
     "output_type": "execute_result"
    }
   ],
   "source": [
    "#assiging a decimal no.\n",
    "\n",
    "decimal_num = 100.56 \n",
    "type (decimal_num) #Type for decimal is float"
   ]
  },
  {
   "cell_type": "code",
   "execution_count": 69,
   "id": "bc9e35f6-feb4-4d86-8686-ce9a46677ead",
   "metadata": {},
   "outputs": [
    {
     "data": {
      "text/plain": [
       "complex"
      ]
     },
     "execution_count": 69,
     "metadata": {},
     "output_type": "execute_result"
    }
   ],
   "source": [
    "#assigning a complex no.\n",
    "\n",
    "complex_num = 1+300j \n",
    "type (complex_num) #Type complex also exists."
   ]
  },
  {
   "cell_type": "markdown",
   "id": "54776dcc-8ab0-41f3-bcf6-9e22ad8ce8c9",
   "metadata": {},
   "source": [
    "#### NAMING A VARIABLE"
   ]
  },
  {
   "cell_type": "code",
   "execution_count": 73,
   "id": "72fd9603-75ec-4f86-9117-2ade7bc7ec48",
   "metadata": {},
   "outputs": [
    {
     "data": {
      "text/plain": [
       "'\\nexample \\n-> 3num = 4\\n-> 11a = 100\\n'"
      ]
     },
     "execution_count": 73,
     "metadata": {},
     "output_type": "execute_result"
    }
   ],
   "source": [
    "#don't start a varibale name numbers\n",
    "\n",
    "'''\n",
    "example \n",
    "-> 3num = 4\n",
    "-> 11a = 100\n",
    "'''"
   ]
  },
  {
   "cell_type": "code",
   "execution_count": 76,
   "id": "f461c99b-ccdd-4ad9-8c56-602a19e9aaa4",
   "metadata": {},
   "outputs": [
    {
     "name": "stdout",
     "output_type": "stream",
     "text": [
      "ABC\n",
      "XYZ\n"
     ]
    }
   ],
   "source": [
    "#Variable names are case sensitive\n",
    "\n",
    "company = \"ABC\"\n",
    "Company = \"XYZ\"\n",
    "print(company)\n",
    "print(Company)"
   ]
  },
  {
   "cell_type": "code",
   "execution_count": 77,
   "id": "39eed6f4-ec45-457c-8e0f-8b9008fa226f",
   "metadata": {},
   "outputs": [],
   "source": [
    "#Variable names should not be named after RESERVED keywords like int, float, len, complex,bool, str, yield"
   ]
  },
  {
   "cell_type": "markdown",
   "id": "d0b0f976-318e-428d-bbd1-87075ea9260d",
   "metadata": {},
   "source": [
    "## 3) BOOLEAN\n",
    "\n",
    "True, False, not, and, or are all case sensitive.\n",
    "Correct ways are: True, False, not, and, or"
   ]
  },
  {
   "cell_type": "code",
   "execution_count": 87,
   "id": "6629b979-7888-4bde-a5b6-fcaa38b4e2df",
   "metadata": {},
   "outputs": [
    {
     "data": {
      "text/plain": [
       "True"
      ]
     },
     "execution_count": 87,
     "metadata": {},
     "output_type": "execute_result"
    }
   ],
   "source": [
    "True"
   ]
  },
  {
   "cell_type": "code",
   "execution_count": 88,
   "id": "df702a21-c922-4a1c-a40d-dcaca41f095d",
   "metadata": {},
   "outputs": [
    {
     "data": {
      "text/plain": [
       "False"
      ]
     },
     "execution_count": 88,
     "metadata": {},
     "output_type": "execute_result"
    }
   ],
   "source": [
    "False"
   ]
  },
  {
   "cell_type": "code",
   "execution_count": 90,
   "id": "3c125083-d228-4205-b428-0f458e27314a",
   "metadata": {},
   "outputs": [
    {
     "data": {
      "text/plain": [
       "False"
      ]
     },
     "execution_count": 90,
     "metadata": {},
     "output_type": "execute_result"
    }
   ],
   "source": [
    "not True #not "
   ]
  },
  {
   "cell_type": "code",
   "execution_count": 91,
   "id": "c2808f19-f2ed-4f00-aa9a-c38386e19038",
   "metadata": {},
   "outputs": [
    {
     "data": {
      "text/plain": [
       "True"
      ]
     },
     "execution_count": 91,
     "metadata": {},
     "output_type": "execute_result"
    }
   ],
   "source": [
    "not False #not"
   ]
  },
  {
   "cell_type": "code",
   "execution_count": 92,
   "id": "25d0cb94-2378-4404-a641-f2d55b9f8d36",
   "metadata": {},
   "outputs": [
    {
     "data": {
      "text/plain": [
       "False"
      ]
     },
     "execution_count": 92,
     "metadata": {},
     "output_type": "execute_result"
    }
   ],
   "source": [
    "True and False #Use of and"
   ]
  },
  {
   "cell_type": "code",
   "execution_count": 93,
   "id": "31e8ca07-cecb-4a9c-a6c2-7aeee665c686",
   "metadata": {},
   "outputs": [
    {
     "data": {
      "text/plain": [
       "True"
      ]
     },
     "execution_count": 93,
     "metadata": {},
     "output_type": "execute_result"
    }
   ],
   "source": [
    "True or False #Use of or"
   ]
  },
  {
   "cell_type": "code",
   "execution_count": 97,
   "id": "48a5b781-752a-40c1-b713-01c570a042e2",
   "metadata": {},
   "outputs": [
    {
     "data": {
      "text/plain": [
       "bool"
      ]
     },
     "execution_count": 97,
     "metadata": {},
     "output_type": "execute_result"
    }
   ],
   "source": [
    "type (not False) #Type BOOL is also there"
   ]
  },
  {
   "cell_type": "code",
   "execution_count": 98,
   "id": "9c170ca8-4860-489d-89f7-6cca3b5f94b0",
   "metadata": {},
   "outputs": [
    {
     "data": {
      "text/plain": [
       "bool"
      ]
     },
     "execution_count": 98,
     "metadata": {},
     "output_type": "execute_result"
    }
   ],
   "source": [
    "type (True)"
   ]
  },
  {
   "cell_type": "markdown",
   "id": "0db28bcc-12b4-4296-9605-6655ddd96333",
   "metadata": {},
   "source": [
    "#### TYPECASTING- Conversion from one type to another"
   ]
  },
  {
   "cell_type": "code",
   "execution_count": 99,
   "id": "7a9cbb1f-b895-4ff5-a618-86bb6218824f",
   "metadata": {},
   "outputs": [
    {
     "data": {
      "text/plain": [
       "False"
      ]
     },
     "execution_count": 99,
     "metadata": {},
     "output_type": "execute_result"
    }
   ],
   "source": [
    "## Converting a number into boolean value \n",
    "\n",
    "bool(0) #0 is false"
   ]
  },
  {
   "cell_type": "code",
   "execution_count": 100,
   "id": "b780900a-5947-46f9-8bf2-5dd9434f15aa",
   "metadata": {},
   "outputs": [
    {
     "data": {
      "text/plain": [
       "True"
      ]
     },
     "execution_count": 100,
     "metadata": {},
     "output_type": "execute_result"
    }
   ],
   "source": [
    "bool(1) #1 is true"
   ]
  },
  {
   "cell_type": "code",
   "execution_count": 104,
   "id": "0df4de3b-42a1-4490-b6f7-04460cd7a663",
   "metadata": {},
   "outputs": [
    {
     "name": "stdout",
     "output_type": "stream",
     "text": [
      "True\n",
      "True\n"
     ]
    }
   ],
   "source": [
    "print(bool(100)) #bool of any number other than 0 is true\n",
    "print(bool(-1) )"
   ]
  },
  {
   "cell_type": "code",
   "execution_count": 109,
   "id": "be97d79f-6cb7-453c-89d0-628484742041",
   "metadata": {},
   "outputs": [
    {
     "name": "stdout",
     "output_type": "stream",
     "text": [
      "TRUE\n"
     ]
    }
   ],
   "source": [
    "a=1\n",
    "\n",
    "if bool(a)==True:\n",
    "   print(\"TRUE\")"
   ]
  },
  {
   "cell_type": "code",
   "execution_count": 117,
   "id": "489bf6a2-e131-4c68-9725-ee4b62270bf8",
   "metadata": {},
   "outputs": [
    {
     "data": {
      "text/plain": [
       "'23'"
      ]
     },
     "execution_count": 117,
     "metadata": {},
     "output_type": "execute_result"
    }
   ],
   "source": [
    "## Converting a number into string\n",
    "\n",
    "str(23) #conversion into string"
   ]
  },
  {
   "cell_type": "code",
   "execution_count": 120,
   "id": "76ce451a-018f-4dec-a81e-6ee80ffd4dd0",
   "metadata": {},
   "outputs": [
    {
     "name": "stdout",
     "output_type": "stream",
     "text": [
      "1\n",
      "0\n"
     ]
    }
   ],
   "source": [
    "## COnverting a float into int\n",
    "\n",
    "print(int(1.756))\n",
    "print(int(.756))"
   ]
  },
  {
   "cell_type": "code",
   "execution_count": 118,
   "id": "25b1a5dc-676c-43b3-acbf-8153310cbd6d",
   "metadata": {},
   "outputs": [
    {
     "data": {
      "text/plain": [
       "23"
      ]
     },
     "execution_count": 118,
     "metadata": {},
     "output_type": "execute_result"
    }
   ],
   "source": [
    "## Converting a string into number \n",
    "\n",
    "int('23')"
   ]
  },
  {
   "cell_type": "markdown",
   "id": "98096d3a-3451-434a-be12-632cbd79b01e",
   "metadata": {},
   "source": [
    "## 4) DYNAMIC TYPING\n",
    "\n",
    "This basically means that by default the variable declared is considered as integers until and unless a value of some other datatype is assigned.\n",
    "Example <- ' a= ' till here the system inferes a as of integer type but as soon as the value is assigned ' a=\"krish\" 'the system now inferes ' a ' as of string type."
   ]
  },
  {
   "cell_type": "markdown",
   "id": "e576586c-264b-4f13-b5af-98ebd4762db3",
   "metadata": {},
   "source": [
    "## 5) CONCATENATION B/W TYPES\n",
    "\n",
    "This for + operation takes place b/w same type of data.\n",
    "For * operation different types of data can be used keeping one of them as integer as it can not multiply a sequence of non-int datatypes.\n",
    "\n"
   ]
  },
  {
   "cell_type": "code",
   "execution_count": 127,
   "id": "7276c17e-6b4c-47d0-a5fa-91c460929999",
   "metadata": {},
   "outputs": [
    {
     "data": {
      "text/plain": [
       "2"
      ]
     },
     "execution_count": 127,
     "metadata": {},
     "output_type": "execute_result"
    }
   ],
   "source": [
    "1+1 #integers"
   ]
  },
  {
   "cell_type": "code",
   "execution_count": 128,
   "id": "9138abdc-3237-4f53-8f78-53eb90089c8d",
   "metadata": {},
   "outputs": [
    {
     "data": {
      "text/plain": [
       "'11'"
      ]
     },
     "execution_count": 128,
     "metadata": {},
     "output_type": "execute_result"
    }
   ],
   "source": [
    "\"1\" + \"1\" #strings"
   ]
  },
  {
   "cell_type": "code",
   "execution_count": 129,
   "id": "02a3f01d-5274-4063-85f8-745b1e65d005",
   "metadata": {},
   "outputs": [
    {
     "data": {
      "text/plain": [
       "2"
      ]
     },
     "execution_count": 129,
     "metadata": {},
     "output_type": "execute_result"
    }
   ],
   "source": [
    "int(\"1\") + int(\"1\") #typecasting and concatenation"
   ]
  },
  {
   "cell_type": "code",
   "execution_count": null,
   "id": "3693d3fb-9f03-467f-905b-a6122a08c075",
   "metadata": {},
   "outputs": [],
   "source": [
    "\"1\" + int(\"1\") #error because of different data types"
   ]
  },
  {
   "cell_type": "code",
   "execution_count": 124,
   "id": "e5a42309-aacd-4938-b078-e741abdcffd9",
   "metadata": {},
   "outputs": [
    {
     "data": {
      "text/plain": [
       "100"
      ]
     },
     "execution_count": 124,
     "metadata": {},
     "output_type": "execute_result"
    }
   ],
   "source": [
    "1 * 100 #integers"
   ]
  },
  {
   "cell_type": "code",
   "execution_count": 125,
   "id": "7488c26e-090f-4f49-b2be-17bfc96c82b4",
   "metadata": {},
   "outputs": [
    {
     "data": {
      "text/plain": [
       "'1111111111111111111111111111111111111111111111111111111111111111111111111111111111111111111111111111'"
      ]
     },
     "execution_count": 125,
     "metadata": {},
     "output_type": "execute_result"
    }
   ],
   "source": [
    "\"1\" * 100 #differnt data types used one of them being int and we see 1 i repeated 100 times."
   ]
  },
  {
   "cell_type": "code",
   "execution_count": null,
   "id": "1de0791c-ae24-43c3-8499-0356575061f1",
   "metadata": {},
   "outputs": [],
   "source": [
    "\"1\" * \"1\" #Will show errors as both are non-int datatypes. "
   ]
  }
 ],
 "metadata": {
  "kernelspec": {
   "display_name": "Python 3 (ipykernel)",
   "language": "python",
   "name": "python3"
  },
  "language_info": {
   "codemirror_mode": {
    "name": "ipython",
    "version": 3
   },
   "file_extension": ".py",
   "mimetype": "text/x-python",
   "name": "python",
   "nbconvert_exporter": "python",
   "pygments_lexer": "ipython3",
   "version": "3.10.8"
  }
 },
 "nbformat": 4,
 "nbformat_minor": 5
}
